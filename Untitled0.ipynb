{
  "nbformat": 4,
  "nbformat_minor": 0,
  "metadata": {
    "colab": {
      "provenance": [],
      "authorship_tag": "ABX9TyNJtztyqcwBIaIHrFXzUxqw",
      "include_colab_link": true
    },
    "kernelspec": {
      "name": "python3",
      "display_name": "Python 3"
    },
    "language_info": {
      "name": "python"
    }
  },
  "cells": [
    {
      "cell_type": "markdown",
      "metadata": {
        "id": "view-in-github",
        "colab_type": "text"
      },
      "source": [
        "<a href=\"https://colab.research.google.com/github/deepankan-rai/Cricket-Player-Performance-stats-Project-/blob/main/Untitled0.ipynb\" target=\"_parent\"><img src=\"https://colab.research.google.com/assets/colab-badge.svg\" alt=\"Open In Colab\"/></a>"
      ]
    },
    {
      "cell_type": "code",
      "execution_count": 3,
      "metadata": {
        "colab": {
          "base_uri": "https://localhost:8080/",
          "height": 189
        },
        "id": "Ars2nPQ8F-gN",
        "outputId": "db9ff1be-22bf-4f32-a28f-b02678fdad2c"
      },
      "outputs": [
        {
          "output_type": "display_data",
          "data": {
            "text/plain": [
              "<IPython.core.display.HTML object>"
            ],
            "text/html": [
              "\n",
              "     <input type=\"file\" id=\"files-6ddd5d0d-b448-4aa0-a73f-35da4de07a60\" name=\"files[]\" multiple disabled\n",
              "        style=\"border:none\" />\n",
              "     <output id=\"result-6ddd5d0d-b448-4aa0-a73f-35da4de07a60\">\n",
              "      Upload widget is only available when the cell has been executed in the\n",
              "      current browser session. Please rerun this cell to enable.\n",
              "      </output>\n",
              "      <script>// Copyright 2017 Google LLC\n",
              "//\n",
              "// Licensed under the Apache License, Version 2.0 (the \"License\");\n",
              "// you may not use this file except in compliance with the License.\n",
              "// You may obtain a copy of the License at\n",
              "//\n",
              "//      http://www.apache.org/licenses/LICENSE-2.0\n",
              "//\n",
              "// Unless required by applicable law or agreed to in writing, software\n",
              "// distributed under the License is distributed on an \"AS IS\" BASIS,\n",
              "// WITHOUT WARRANTIES OR CONDITIONS OF ANY KIND, either express or implied.\n",
              "// See the License for the specific language governing permissions and\n",
              "// limitations under the License.\n",
              "\n",
              "/**\n",
              " * @fileoverview Helpers for google.colab Python module.\n",
              " */\n",
              "(function(scope) {\n",
              "function span(text, styleAttributes = {}) {\n",
              "  const element = document.createElement('span');\n",
              "  element.textContent = text;\n",
              "  for (const key of Object.keys(styleAttributes)) {\n",
              "    element.style[key] = styleAttributes[key];\n",
              "  }\n",
              "  return element;\n",
              "}\n",
              "\n",
              "// Max number of bytes which will be uploaded at a time.\n",
              "const MAX_PAYLOAD_SIZE = 100 * 1024;\n",
              "\n",
              "function _uploadFiles(inputId, outputId) {\n",
              "  const steps = uploadFilesStep(inputId, outputId);\n",
              "  const outputElement = document.getElementById(outputId);\n",
              "  // Cache steps on the outputElement to make it available for the next call\n",
              "  // to uploadFilesContinue from Python.\n",
              "  outputElement.steps = steps;\n",
              "\n",
              "  return _uploadFilesContinue(outputId);\n",
              "}\n",
              "\n",
              "// This is roughly an async generator (not supported in the browser yet),\n",
              "// where there are multiple asynchronous steps and the Python side is going\n",
              "// to poll for completion of each step.\n",
              "// This uses a Promise to block the python side on completion of each step,\n",
              "// then passes the result of the previous step as the input to the next step.\n",
              "function _uploadFilesContinue(outputId) {\n",
              "  const outputElement = document.getElementById(outputId);\n",
              "  const steps = outputElement.steps;\n",
              "\n",
              "  const next = steps.next(outputElement.lastPromiseValue);\n",
              "  return Promise.resolve(next.value.promise).then((value) => {\n",
              "    // Cache the last promise value to make it available to the next\n",
              "    // step of the generator.\n",
              "    outputElement.lastPromiseValue = value;\n",
              "    return next.value.response;\n",
              "  });\n",
              "}\n",
              "\n",
              "/**\n",
              " * Generator function which is called between each async step of the upload\n",
              " * process.\n",
              " * @param {string} inputId Element ID of the input file picker element.\n",
              " * @param {string} outputId Element ID of the output display.\n",
              " * @return {!Iterable<!Object>} Iterable of next steps.\n",
              " */\n",
              "function* uploadFilesStep(inputId, outputId) {\n",
              "  const inputElement = document.getElementById(inputId);\n",
              "  inputElement.disabled = false;\n",
              "\n",
              "  const outputElement = document.getElementById(outputId);\n",
              "  outputElement.innerHTML = '';\n",
              "\n",
              "  const pickedPromise = new Promise((resolve) => {\n",
              "    inputElement.addEventListener('change', (e) => {\n",
              "      resolve(e.target.files);\n",
              "    });\n",
              "  });\n",
              "\n",
              "  const cancel = document.createElement('button');\n",
              "  inputElement.parentElement.appendChild(cancel);\n",
              "  cancel.textContent = 'Cancel upload';\n",
              "  const cancelPromise = new Promise((resolve) => {\n",
              "    cancel.onclick = () => {\n",
              "      resolve(null);\n",
              "    };\n",
              "  });\n",
              "\n",
              "  // Wait for the user to pick the files.\n",
              "  const files = yield {\n",
              "    promise: Promise.race([pickedPromise, cancelPromise]),\n",
              "    response: {\n",
              "      action: 'starting',\n",
              "    }\n",
              "  };\n",
              "\n",
              "  cancel.remove();\n",
              "\n",
              "  // Disable the input element since further picks are not allowed.\n",
              "  inputElement.disabled = true;\n",
              "\n",
              "  if (!files) {\n",
              "    return {\n",
              "      response: {\n",
              "        action: 'complete',\n",
              "      }\n",
              "    };\n",
              "  }\n",
              "\n",
              "  for (const file of files) {\n",
              "    const li = document.createElement('li');\n",
              "    li.append(span(file.name, {fontWeight: 'bold'}));\n",
              "    li.append(span(\n",
              "        `(${file.type || 'n/a'}) - ${file.size} bytes, ` +\n",
              "        `last modified: ${\n",
              "            file.lastModifiedDate ? file.lastModifiedDate.toLocaleDateString() :\n",
              "                                    'n/a'} - `));\n",
              "    const percent = span('0% done');\n",
              "    li.appendChild(percent);\n",
              "\n",
              "    outputElement.appendChild(li);\n",
              "\n",
              "    const fileDataPromise = new Promise((resolve) => {\n",
              "      const reader = new FileReader();\n",
              "      reader.onload = (e) => {\n",
              "        resolve(e.target.result);\n",
              "      };\n",
              "      reader.readAsArrayBuffer(file);\n",
              "    });\n",
              "    // Wait for the data to be ready.\n",
              "    let fileData = yield {\n",
              "      promise: fileDataPromise,\n",
              "      response: {\n",
              "        action: 'continue',\n",
              "      }\n",
              "    };\n",
              "\n",
              "    // Use a chunked sending to avoid message size limits. See b/62115660.\n",
              "    let position = 0;\n",
              "    do {\n",
              "      const length = Math.min(fileData.byteLength - position, MAX_PAYLOAD_SIZE);\n",
              "      const chunk = new Uint8Array(fileData, position, length);\n",
              "      position += length;\n",
              "\n",
              "      const base64 = btoa(String.fromCharCode.apply(null, chunk));\n",
              "      yield {\n",
              "        response: {\n",
              "          action: 'append',\n",
              "          file: file.name,\n",
              "          data: base64,\n",
              "        },\n",
              "      };\n",
              "\n",
              "      let percentDone = fileData.byteLength === 0 ?\n",
              "          100 :\n",
              "          Math.round((position / fileData.byteLength) * 100);\n",
              "      percent.textContent = `${percentDone}% done`;\n",
              "\n",
              "    } while (position < fileData.byteLength);\n",
              "  }\n",
              "\n",
              "  // All done.\n",
              "  yield {\n",
              "    response: {\n",
              "      action: 'complete',\n",
              "    }\n",
              "  };\n",
              "}\n",
              "\n",
              "scope.google = scope.google || {};\n",
              "scope.google.colab = scope.google.colab || {};\n",
              "scope.google.colab._files = {\n",
              "  _uploadFiles,\n",
              "  _uploadFilesContinue,\n",
              "};\n",
              "})(self);\n",
              "</script> "
            ]
          },
          "metadata": {}
        },
        {
          "output_type": "stream",
          "name": "stdout",
          "text": [
            "Saving deliveries.csv to deliveries.csv\n",
            "Saving matches.csv to matches.csv\n",
            "Saving most_runs_average_strikerate.csv to most_runs_average_strikerate.csv\n",
            "Saving Players.xlsx to Players (1).xlsx\n"
          ]
        }
      ],
      "source": [
        "import pandas as pd\n",
        "import numpy as np\n",
        "import matplotlib.pyplot as plt\n",
        "import os\n",
        "from google.colab import files\n",
        "uploaded = files.upload()"
      ]
    },
    {
      "cell_type": "markdown",
      "source": [
        "The above code import various libraries such as pandas,numpy etc. After importing libraries the datasets are uploaded."
      ],
      "metadata": {
        "id": "-fZ3JdOFO6aD"
      }
    },
    {
      "cell_type": "code",
      "source": [
        "P_PLAYERS = \"Players.xlsx\"\n",
        "P_DELIVERIES = \"deliveries.csv\"\n",
        "P_MATCHES = \"matches.csv\"\n",
        "P_BAT_PRE = \"most_runs_average_strikerate.csv\"\n",
        "\n",
        "OUT_DIR = \"/content\"\n",
        "players = pd.read_excel(P_PLAYERS)\n",
        "deliveries = pd.read_csv(P_DELIVERIES)\n",
        "matches = pd.read_csv(P_MATCHES)\n",
        "bat_pre = pd.read_csv(P_BAT_PRE)\n",
        "\n",
        "print(\"Data loaded::\")\n",
        "print(\"Players:\", players.shape,\n",
        "      \"Deliveries:\", deliveries.shape,\n",
        "      \"Matches:\", matches.shape,\n",
        "      \"Precomputed Batting:\", bat_pre.shape)"
      ],
      "metadata": {
        "colab": {
          "base_uri": "https://localhost:8080/"
        },
        "id": "pK5Jb5EjH9A6",
        "outputId": "94b950ca-2b75-4501-ef07-e802e65876c7"
      },
      "execution_count": 4,
      "outputs": [
        {
          "output_type": "stream",
          "name": "stdout",
          "text": [
            "Data loaded::\n",
            "Players: (566, 5) Deliveries: (179078, 21) Matches: (756, 18) Precomputed Batting: (516, 6)\n"
          ]
        }
      ]
    },
    {
      "cell_type": "markdown",
      "source": [
        "After upload, they are accessible by filename directly. Then Save outputs here in Colab environment. Now read all the datasets."
      ],
      "metadata": {
        "id": "X5Y5SxvOPb0X"
      }
    },
    {
      "cell_type": "code",
      "source": [
        "deliveries.columns = [c.strip() for c in deliveries.columns]\n",
        "matches.columns = [c.strip() for c in matches.columns]\n",
        "players.columns = [c.strip() for c in players.columns]\n",
        "bat_pre.columns = [c.strip() for c in bat_pre.columns]\n",
        "if \"season\" in matches.columns:\n",
        "    season_col = \"season\"\n",
        "elif \"Season\" in matches.columns:\n",
        "    season_col = \"Season\"\n",
        "else:\n",
        "    season_col = None\n",
        "\n",
        "if \"id\" not in matches.columns and \"match_id\" in matches.columns:\n",
        "    matches = matches.rename(columns={\"match_id\":\"id\"})\n",
        "\n",
        "if \"match_id\" not in deliveries.columns:\n",
        "    if \"id\" in deliveries.columns:\n",
        "        deliveries = deliveries.rename(columns={\"id\":\"match_id\"})\n",
        "\n",
        "merge_cols = [\"id\"]\n",
        "if season_col:\n",
        "    merge_cols += [season_col] if season_col in matches.columns else []\n",
        "    if \"date\" in matches.columns:\n",
        "        merge_cols.append(\"date\")\n",
        "\n",
        "matches_subset = matches[[c for c in merge_cols if c in matches.columns]]\n",
        "deliveries = deliveries.merge(matches_subset, left_on=\"match_id\", right_on=\"id\", how=\"left\")\n",
        "for col in [\"wide_runs\",\"noball_runs\",\"bye_runs\",\"legbye_runs\",\"penalty_runs\",\"total_runs\",\"batsman_runs\",\"player_dismissed\",\"dismissal_kind\"]:\n",
        "    if col not in deliveries.columns:\n",
        "        deliveries[col] = 0 if col != \"dismissal_kind\" else np.nan\n",
        "\n",
        "deliveries[\"valid_ball_faced\"] = ((deliveries[\"wide_runs\"]==0) & (deliveries[\"noball_runs\"]==0)).astype(int)\n",
        "deliveries[\"legal_delivery\"] = deliveries[\"valid_ball_faced\"]\n",
        "deliveries[\"runs_off_bat\"] = deliveries[\"batsman_runs\"].fillna(0).astype(int)\n",
        "deliveries[\"runs_conceded\"] = deliveries[\"total_runs\"].fillna(0).astype(int) - deliveries[\"bye_runs\"].fillna(0).astype(int) - deliveries[\"legbye_runs\"].fillna(0).astype(int) - deliveries[\"penalty_runs\"].fillna(0).astype(int)"
      ],
      "metadata": {
        "id": "mT8siU3cPrJ4"
      },
      "execution_count": 6,
      "outputs": []
    },
    {
      "cell_type": "markdown",
      "source": [
        "Now I have prepare some helper columns that are normalized and will also help in merging the required datasets together."
      ],
      "metadata": {
        "id": "d-1J4PZ9P8HQ"
      }
    },
    {
      "cell_type": "markdown",
      "source": [],
      "metadata": {
        "id": "nIOm1nIlO3Vt"
      }
    },
    {
      "cell_type": "code",
      "source": [
        "batsman_group = deliveries.groupby(\"batsman\")\n",
        "batting_all = pd.DataFrame({\n",
        "    \"runs\": batsman_group[\"runs_off_bat\"].sum(),\n",
        "    \"balls\": batsman_group[\"valid_ball_faced\"].sum()\n",
        "})\n",
        "\n",
        "outs = deliveries[deliveries[\"player_dismissed\"].notna()].groupby(\"player_dismissed\").size().rename(\"outs\")\n",
        "batting_all = batting_all.merge(outs, left_index=True, right_index=True, how=\"left\").fillna({\"outs\":0})\n",
        "batting_all[\"fours\"] = deliveries[deliveries[\"runs_off_bat\"]==4].groupby(\"batsman\").size().reindex(batting_all.index, fill_value=0)\n",
        "batting_all[\"sixes\"] = deliveries[deliveries[\"runs_off_bat\"]==6].groupby(\"batsman\").size().reindex(batting_all.index, fill_value=0)\n",
        "batting_all[\"strike_rate\"] = (batting_all[\"runs\"]/batting_all[\"balls\"].replace(0,np.nan))*100\n",
        "batting_all[\"average\"] = batting_all[\"runs\"]/batting_all[\"outs\"].replace(0,np.nan)\n",
        "\n",
        "match_runs = deliveries.groupby([\"match_id\",\"batsman\"])[\"runs_off_bat\"].sum().reset_index()\n",
        "innings_count = match_runs.groupby(\"batsman\").size().rename(\"innings\")\n",
        "batting_all = batting_all.merge(innings_count, left_index=True, right_index=True, how=\"left\").reset_index().rename(columns={\"index\":\"batsman\"})"
      ],
      "metadata": {
        "id": "mRVWCUnZQ6eX"
      },
      "execution_count": 7,
      "outputs": []
    },
    {
      "cell_type": "markdown",
      "source": [
        "Step 3 batting summary"
      ],
      "metadata": {
        "id": "kEzrPAsiRBGo"
      }
    },
    {
      "cell_type": "code",
      "source": [
        "bowler_group = deliveries.groupby(\"bowler\")\n",
        "bowling_all = pd.DataFrame({\n",
        "    \"runs_conceded\": bowler_group[\"runs_conceded\"].sum(),\n",
        "    \"legal_balls\": bowler_group[\"legal_delivery\"].sum()\n",
        "})\n",
        "bowling_all[\"overs\"] = bowling_all[\"legal_balls\"]/6.0\n",
        "deliveries[\"dismissal_kind_lower\"] = deliveries[\"dismissal_kind\"].astype(str).str.lower()\n",
        "bowler_wicket_kinds = {\"bowled\",\"caught\",\"caught and bowled\",\"lbw\",\"stumped\",\"hit wicket\",\"hitwicket\"}\n",
        "wickets = deliveries[(deliveries[\"player_dismissed\"].notna()) & (deliveries[\"dismissal_kind_lower\"].isin(bowler_wicket_kinds))].groupby(\"bowler\").size().rename(\"wickets\")\n",
        "bowling_all = bowling_all.merge(wickets, left_index=True, right_index=True, how=\"left\").fillna({\"wickets\":0})\n",
        "bowling_all[\"economy\"] = bowling_all[\"runs_conceded\"]/bowling_all[\"overs\"].replace(0,np.nan)\n",
        "bowling_all[\"bowling_avg\"] = bowling_all[\"runs_conceded\"]/bowling_all[\"wickets\"].replace(0,np.nan)\n",
        "bowling_all[\"bowling_sr\"] = bowling_all[\"legal_balls\"]/bowling_all[\"wickets\"].replace(0,np.nan)\n",
        "bowling_all = bowling_all.reset_index().rename(columns={\"index\":\"bowler\"})"
      ],
      "metadata": {
        "id": "OWcnGjzIRUmB"
      },
      "execution_count": 8,
      "outputs": []
    },
    {
      "cell_type": "markdown",
      "source": [
        "Step 4 : Bowling Summary"
      ],
      "metadata": {
        "id": "2U-ziV7XRVZA"
      }
    },
    {
      "cell_type": "code",
      "source": [
        "match_runs = deliveries.groupby([\"match_id\",\"batsman\"])[\"runs_off_bat\"].sum().reset_index()\n",
        "consistency = match_runs.groupby(\"batsman\").agg(\n",
        "    innings=(\"runs_off_bat\",\"size\"),\n",
        "    mean_runs=(\"runs_off_bat\",\"mean\"),\n",
        "    std_runs=(\"runs_off_bat\",\"std\")\n",
        ").reset_index()\n",
        "consistency[\"cv\"] = consistency[\"std_runs\"]/consistency[\"mean_runs\"]\n",
        "consistency_filtered = consistency[(consistency[\"innings\"]>=15) & (consistency[\"mean_runs\"]>=20)].sort_values([\"cv\",\"mean_runs\"],ascending=[True,False])"
      ],
      "metadata": {
        "id": "eR2OMUzGRc6x"
      },
      "execution_count": 9,
      "outputs": []
    },
    {
      "cell_type": "markdown",
      "source": [
        "Step 5: Consistency Analysis"
      ],
      "metadata": {
        "id": "EYjlGdg5RdV2"
      }
    },
    {
      "cell_type": "code",
      "source": [
        "players2 = players.rename(columns={\n",
        "    \"Player_Name\":\"player\",\n",
        "    \"Batting_Hand\":\"batting_hand\",\n",
        "    \"Bowling_Skill\":\"bowling_skill\",\n",
        "    \"Country\":\"country\",\n",
        "    \"DOB\":\"dob\"\n",
        "})\n",
        "batting_enriched = batting_all.merge(players2, left_on=\"batsman\", right_on=\"player\", how=\"left\").drop(columns=[\"player\"],errors=\"ignore\")\n",
        "bowling_enriched = bowling_all.merge(players2, left_on=\"bowler\", right_on=\"player\", how=\"left\").drop(columns=[\"player\"],errors=\"ignore\")\n"
      ],
      "metadata": {
        "id": "E31boHvLRl0F"
      },
      "execution_count": 10,
      "outputs": []
    },
    {
      "cell_type": "markdown",
      "source": [
        "Step 6: Enrich with player Bio"
      ],
      "metadata": {
        "id": "cHeKwKidRmKu"
      }
    },
    {
      "cell_type": "code",
      "source": [
        "batting_enriched.to_csv(os.path.join(OUT_DIR,\"batting_summary.csv\"), index=False)\n",
        "bowling_enriched.to_csv(os.path.join(OUT_DIR,\"bowling_summary.csv\"), index=False)\n",
        "consistency_filtered.to_csv(os.path.join(OUT_DIR,\"batting_consistency.csv\"), index=False)\n",
        "\n",
        "with pd.ExcelWriter(os.path.join(OUT_DIR,\"IPL_analytics_report.xlsx\")) as writer:\n",
        "    batting_enriched.to_excel(writer, sheet_name=\"Batting\", index=False)\n",
        "    bowling_enriched.to_excel(writer, sheet_name=\"Bowling\", index=False)\n",
        "    consistency_filtered.to_excel(writer, sheet_name=\"Consistency\", index=False)"
      ],
      "metadata": {
        "id": "ygteO0FcRw9X"
      },
      "execution_count": 11,
      "outputs": []
    },
    {
      "cell_type": "markdown",
      "source": [
        "Step 7: Save Ouput"
      ],
      "metadata": {
        "id": "OVA2UlhkRxR6"
      }
    },
    {
      "cell_type": "code",
      "source": [
        "def save_plot(df, x, y, title, fname):\n",
        "    plt.figure(figsize=(10,6))\n",
        "    plt.bar(df[x].astype(str), df[y])\n",
        "    plt.title(title)\n",
        "    plt.xticks(rotation=45, ha=\"right\")\n",
        "    plt.tight_layout()\n",
        "    plt.savefig(os.path.join(OUT_DIR,fname), dpi=150)\n",
        "    plt.close()\n",
        "\n",
        "\n",
        "top10_runs = batting_all[batting_all[\"balls\"]>=200].nlargest(10,\"runs\")\n",
        "save_plot(top10_runs,\"batsman\",\"runs\",\"Top 10 Batsmen by Runs\",\"top10_runs.png\")\n",
        "\n",
        "\n",
        "top10_sr = batting_all[batting_all[\"balls\"]>=500].nlargest(10,\"strike_rate\")\n",
        "save_plot(top10_sr,\"batsman\",\"strike_rate\",\"Top 10 Batsmen by SR\",\"top10_sr.png\")\n",
        "\n",
        "\n",
        "top10_econ = bowling_all[bowling_all[\"overs\"]>=50].nsmallest(10,\"economy\")\n",
        "save_plot(top10_econ,\"bowler\",\"economy\",\"Top 10 Bowlers by Economy\",\"top10_economy.png\")\n"
      ],
      "metadata": {
        "id": "K4L8MsMOR7zF"
      },
      "execution_count": 12,
      "outputs": []
    },
    {
      "cell_type": "markdown",
      "source": [
        "Step 8: Plots"
      ],
      "metadata": {
        "id": "ybCLLte8R8Mm"
      }
    }
  ]
}